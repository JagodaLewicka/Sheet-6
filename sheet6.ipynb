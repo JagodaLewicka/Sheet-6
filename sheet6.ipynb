{
 "cells": [
  {
   "cell_type": "code",
   "execution_count": 1,
   "metadata": {},
   "outputs": [],
   "source": [
    "# DPOCN Jagoda Lewicka 219951 \n",
    "# sheet 6"
   ]
  },
  {
   "cell_type": "code",
   "execution_count": 2,
   "metadata": {},
   "outputs": [],
   "source": [
    "# NN - four randomly chosen nearest neighbors of the target spinson are in the\n",
    "# group. This method was used in the original q-voter model"
   ]
  },
  {
   "cell_type": "code",
   "execution_count": 3,
   "metadata": {},
   "outputs": [],
   "source": [
    "# 1. Choose at random one spinson S_i located at site i.\n",
    "# 2. Decide with probability p, if the spinson will act independently.\n",
    "# 3. In case of independence, a spinson flips to the opposite state with probability 1/2.\n",
    "# 4. In other case (conformity), choose q neighbors of site i (a so called q-panel):\n",
    "# (a) If all the q neighbors are in the same state, i.e. q-panel is unanimous, the\n",
    "# spinson takes the state of the q neighbors.\n",
    "# (b) Otherwise, i.e. if q-panel is not unanimous, spinson flips with probability ǫ.\n"
   ]
  },
  {
   "cell_type": "code",
   "execution_count": 5,
   "metadata": {},
   "outputs": [],
   "source": [
    "import networkx as nx\n",
    "import random as rn\n",
    "import matplotlib.pyplot as plt\n",
    "import numpy as np"
   ]
  },
  {
   "cell_type": "code",
   "execution_count": 12,
   "metadata": {},
   "outputs": [],
   "source": [
    "def qvoter_model(q, G, p):\n",
    "    \"\"\"Function simulates q-voter model with NN influence group. \n",
    "  \n",
    "    Parameters \n",
    "    ----------\n",
    "    q : int\n",
    "        \n",
    "    G : graph\n",
    "        Underlying topology\n",
    "  \n",
    "    Returns \n",
    "    -------\n",
    "\n",
    "    \"\"\"\n",
    "        \n",
    "    spinsons = list(G.nodes()) \n",
    "    green_spinsons = list(G.nodes())  # at first all spinsons are green, those are \"up\" +1\n",
    "    red_spinsons = [] # \"down\" -1\n",
    "        \n",
    "    for t in range(100):\n",
    "        \n",
    "        S = rn.choice(spinsons)  \n",
    "        \n",
    "        P = rn.random()\n",
    "        \n",
    "        if P <= p: # act independently\n",
    "            r = rn.random()\n",
    "            \n",
    "            if r >= 0.5:\n",
    "                if S in green_spinsons:\n",
    "                    green_spinsons.remove(S)\n",
    "                    red_spinsons.append(S)\n",
    "                    \n",
    "                else:\n",
    "                    red_spinsons.remove(S)\n",
    "                    green_spinsons.append(S)\n",
    "            \n",
    "        else: # conformity\n",
    "            q_panel = list(G.neighbors(S))\n",
    "            \n",
    "            if len(q_panel) >= q:\n",
    "                q_panel = q_panel[0:q]\n",
    "                green_counter = 0\n",
    "                red_counter = 0\n",
    "                \n",
    "                for n in q_panel:\n",
    "                    if n in green_spinsons:\n",
    "                        green_counter += 1\n",
    "                        \n",
    "                    else:\n",
    "                        red_counter += 1\n",
    "                        \n",
    "                if green_counter == q: #all of q neighbors are the same (+1)\n",
    "                    if S not in green_spinsons:\n",
    "                        green_spinsons.append(S)\n",
    "                        red_spinsons.remove(S)\n",
    "                        \n",
    "                elif red_counter == q: #all of q neighbors are (-1)\n",
    "                    if S not in red_spinsons:\n",
    "                        green_spinsons.remove(S)\n",
    "                        red_spinsons.append(S)\n",
    "                    \n",
    "                #else:\n",
    "                #    Q = rn.random()\n",
    "                    \n",
    "                #    if Q >= 0.5:\n",
    "                #        if S in green_spinsons:\n",
    "                #            green_spinsons.remove(S)\n",
    "                #            red_spinsons.append(S)\n",
    "                            \n",
    "                 #       else:\n",
    "                 #           red_spinsons.remove(S)\n",
    "                 #           green_spinsons.append(S)\n",
    "                            \n",
    "    mag = (len(green_spinsons) - len(red_spinsons))/len(spinsons)\n",
    "        \n",
    "    \n",
    "    result = mag\n",
    "    \n",
    "    return result\n",
    "                                    "
   ]
  },
  {
   "cell_type": "code",
   "execution_count": 13,
   "metadata": {},
   "outputs": [],
   "source": [
    "G = nx.barabasi_albert_graph(100, 4, seed=None)"
   ]
  },
  {
   "cell_type": "code",
   "execution_count": 18,
   "metadata": {},
   "outputs": [],
   "source": [
    "m_list_average = []\n",
    "p_list = np.arange(0, 0.5, 0.02)\n",
    "M = 1000\n",
    "for p in p_list:\n",
    "    m_list = []\n",
    "    for i in range(M):\n",
    "        x = qvoter_model(4, G, p)\n",
    "        m_list.append(x)\n",
    "    m_list_average.append(np.mean(m_list))"
   ]
  },
  {
   "cell_type": "code",
   "execution_count": 17,
   "metadata": {},
   "outputs": [
    {
     "data": {
      "text/plain": [
       "[<matplotlib.lines.Line2D at 0x1a1e283d668>]"
      ]
     },
     "execution_count": 17,
     "metadata": {},
     "output_type": "execute_result"
    },
    {
     "data": {
      "image/png": "[encoded data removed]",
      "text/plain": [
       "<Figure size 432x288 with 1 Axes>"
      ]
     },
     "metadata": {},
     "output_type": "display_data"
    }
   ],
   "source": [
    "plt.plot(p_list,m_list_average)"
   ]
  },
  {
   "cell_type": "code",
   "execution_count": 191,
   "metadata": {},
   "outputs": [],
   "source": [
    "L = nx.watts_strogatz_graph(100, 4, 0.01, seed=None)"
   ]
  },
  {
   "cell_type": "code",
   "execution_count": 193,
   "metadata": {},
   "outputs": [],
   "source": [
    "K = nx.watts_strogatz_graph(100, 4, 0.2, seed=None)"
   ]
  },
  {
   "cell_type": "code",
   "execution_count": 206,
   "metadata": {},
   "outputs": [],
   "source": [
    "H = nx.complete_graph(100)"
   ]
  },
  {
   "cell_type": "code",
   "execution_count": null,
   "metadata": {},
   "outputs": [],
   "source": []
  }
 ],
 "metadata": {
  "kernelspec": {
   "display_name": "Python 3",
   "language": "python",
   "name": "python3"
  },
  "language_info": {
   "codemirror_mode": {
    "name": "ipython",
    "version": 3
   },
   "file_extension": ".py",
   "mimetype": "text/x-python",
   "name": "python",
   "nbconvert_exporter": "python",
   "pygments_lexer": "ipython3",
   "version": "3.6.4"
  }
 },
 "nbformat": 4,
 "nbformat_minor": 2
}
